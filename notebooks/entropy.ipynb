{
 "cells": [
  {
   "cell_type": "code",
   "execution_count": 1,
   "metadata": {},
   "outputs": [],
   "source": [
    "import unidip\n",
    "\n",
    "import numpy as np\n",
    "import matplotlib.pyplot as plt\n",
    "plt.style.use('seaborn')"
   ]
  },
  {
   "cell_type": "code",
   "execution_count": 70,
   "metadata": {},
   "outputs": [],
   "source": [
    "def getInfoCntnt(cnts, is_probs=False, base=2):\n",
    "    \"\"\" Get Information Content\"\"\"\n",
    "    if not is_probs:\n",
    "        dat = np.array(cnts) / np.sum(cnts)\n",
    "    else:\n",
    "        dat = np.array(cnts)    \n",
    "    return np.apply_along_axis(lambda x: -np.log2(x), 0, dat)"
   ]
  },
  {
   "cell_type": "code",
   "execution_count": 37,
   "metadata": {},
   "outputs": [],
   "source": [
    "def shannonEntropy(cnts, is_probs=False):\n",
    "    if not is_probs:\n",
    "        dat = np.array(cnts) / np.sum(cnts)\n",
    "    else:\n",
    "        dat = np.array(cnts) \n",
    "    return -np.sum(np.apply_along_axis(lambda p: p * np.log2(p), 0, dat))"
   ]
  },
  {
   "cell_type": "code",
   "execution_count": 60,
   "metadata": {},
   "outputs": [
    {
     "name": "stdout",
     "output_type": "stream",
     "text": [
      "[ 3 15 10 ...,  9  8  0]\n"
     ]
    }
   ],
   "source": [
    "x = np.random.choice(16, 2000000)\n",
    "print(x)"
   ]
  },
  {
   "cell_type": "code",
   "execution_count": 61,
   "metadata": {},
   "outputs": [
    {
     "data": {
      "text/plain": [
       "array([ 4.00151274,  3.99157622,  4.00331624,  4.00268013,  3.99993075,\n",
       "        4.00483246,  3.99825828,  3.99488463,  4.00272638,  4.00185939,\n",
       "        3.99916925,  3.99662228,  4.00610685,  4.00073885,  3.99800469,\n",
       "        3.99785487])"
      ]
     },
     "execution_count": 61,
     "metadata": {},
     "output_type": "execute_result"
    }
   ],
   "source": [
    "getInfoCntnt(np.unique(x, return_counts=True)[1])"
   ]
  },
  {
   "cell_type": "code",
   "execution_count": 71,
   "metadata": {},
   "outputs": [
    {
     "name": "stdout",
     "output_type": "stream",
     "text": [
      "[ 0.0624345  0.062866   0.0623565  0.062384   0.062503   0.062291\n",
      "  0.0625755  0.062722   0.062382   0.0624195  0.062536   0.0626465\n",
      "  0.062236   0.062468   0.0625865  0.062593 ]\n",
      "[ 4.00151274  3.99157622  4.00331624  4.00268013  3.99993075  4.00483246\n",
      "  3.99825828  3.99488463  4.00272638  4.00185939  3.99916925  3.99662228\n",
      "  4.00610685  4.00073885  3.99800469  3.99785487]\n",
      "3.9999953739\n"
     ]
    }
   ],
   "source": [
    "vals, counts = np.unique(x, return_counts=True)\n",
    "print(counts/np.sum(counts))\n",
    "print(getInfoCntnt(counts))\n",
    "print(shannonEntropy(counts))"
   ]
  },
  {
   "cell_type": "code",
   "execution_count": 72,
   "metadata": {},
   "outputs": [
    {
     "name": "stdout",
     "output_type": "stream",
     "text": [
      "[ 1  1  1  1  1  1  1  1  1  1  1  1  1  1  1 21]\n",
      "[ 0.02777778  0.02777778  0.02777778  0.02777778  0.02777778  0.02777778\n",
      "  0.02777778  0.02777778  0.02777778  0.02777778  0.02777778  0.02777778\n",
      "  0.02777778  0.02777778  0.02777778  0.58333333]\n",
      "[ 5.169925    5.169925    5.169925    5.169925    5.169925    5.169925\n",
      "  5.169925    5.169925    5.169925    5.169925    5.169925    5.169925\n",
      "  5.169925    5.169925    5.169925    0.77760758]\n",
      "2.60773983815\n"
     ]
    }
   ],
   "source": [
    "uneven_dat = np.concatenate((np.array(range(16)), np.random.choice(1, 20) + 15))\n",
    "vals, uneven = np.unique(uneven_dat, return_counts=True)\n",
    "print(uneven)\n",
    "print(uneven/np.sum(uneven))\n",
    "print(getInfoCntnt(uneven))\n",
    "print(shannonEntropy(uneven))"
   ]
  },
  {
   "cell_type": "code",
   "execution_count": null,
   "metadata": {},
   "outputs": [],
   "source": []
  }
 ],
 "metadata": {
  "kernelspec": {
   "display_name": "Python 3",
   "language": "python",
   "name": "python3"
  },
  "language_info": {
   "codemirror_mode": {
    "name": "ipython",
    "version": 3
   },
   "file_extension": ".py",
   "mimetype": "text/x-python",
   "name": "python",
   "nbconvert_exporter": "python",
   "pygments_lexer": "ipython3",
   "version": "3.6.3"
  }
 },
 "nbformat": 4,
 "nbformat_minor": 2
}
