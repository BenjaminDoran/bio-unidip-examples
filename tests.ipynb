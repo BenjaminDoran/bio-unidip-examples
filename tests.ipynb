{
 "cells": [
  {
   "cell_type": "code",
   "execution_count": 1,
   "metadata": {},
   "outputs": [],
   "source": [
    "import string\n",
    "import random\n",
    "import itertools\n",
    "from itertools import cycle, chain\n",
    "\n",
    "# Math\n",
    "import numpy as np\n",
    "import pandas as pd\n",
    "\n",
    "# Bio\n",
    "from Bio import motifs, SeqIO\n",
    "from Bio.Align import Applications\n",
    "from Bio.Seq import Seq\n",
    "from Bio.SeqRecord import SeqRecord\n",
    "\n",
    "# custom\n",
    "from unidip import UniDip\n",
    "from util import *\n",
    "\n",
    "import matplotlib.pyplot as plt\n",
    "plt.style.use(\"seaborn\")"
   ]
  },
  {
   "cell_type": "code",
   "execution_count": 145,
   "metadata": {},
   "outputs": [
    {
     "data": {
      "text/plain": [
       "('TGGTGGGCCACAGATAGAGTTGATCACTTCCCCTTATACAAGCGCTCCTAGCTACAAAAATATCGTGTTTCT|____________|AGACCGACAAGGCTGTCGGGCCGGACTCATAGGCCTCACTCAGGGGCAACGGTGGTCCGTAGTG',\n",
       " 'TCACCTGACGTCCGGGTGGTAAACCTTTCTCCCTA|____________|TAGGATCTCTAAGAGTTTTAGCAGTAGTAACTGGCTGAGCCGGCGTTACAACAATCACACCCACCATCACGCATGTTCTTCACATAGTAGTTGCGATAATA',\n",
       " 'ACCGTTGCTGGAACTTATGAAGAGCCTTTCCGCATCGCCACATCCGGGCTCCACAAT|____________|TAATCCGACTATCGGACGCCGACTAGGAAGCGTTAAGTGAGAACTCGATACGTACGGACGGGATTTGTTCTCAATGTTC',\n",
       " 'CCTAGGACCGACTTTAAGAATAAGTGCCTAGTAGCTCGA|____________|TCGGTTGTGGGAGCAAGTTCCCCACACTGATGATCTCTATGATAACTATGCCCACCGCATCGCTCGCTGCAGAAACGTCAGAACTGAACGGTTAACG',\n",
       " 'GGCCAGTCGAACTGGGTCACGGTGACTTGGTACGAACTCCCTCAGGAATGCGCATCCTCGGATGAGGA|____________|GCCCAGTCAATCGGATAAGCTGTGAAACCCTTGAAGGGGTGGGTTGATCGACTGGCAACGACTTTTCC',\n",
       " 'CTTATCGAGTCCCGGCAATTTAGTTGCCGGAGCTCGTCTAAGCTATTTGAAGCCGAAACAAGTCTGCCGGACAAATCCTAAGCCAACG|____________|TGGACACATACCCTGGGCTTATATGAAGAGCGAGCAGCATCGCGACTC',\n",
       " 'GCGTTGGGAGAGGTTGGATCAACGGCTTACGGATATATTGCATTTACTGATTAGTTACAGATTGACATGTAGGGGGGCCCGACTTA|____________|TATTACCACGAGCGGACAACAGAAGAAAACGCAGCTTTGTCCCCGCAACT',\n",
       " 'CACCCGACACCGAAATGGGGCTGTGGTTATTGCTTATTGATGCTAATCCTCTTG|____________|TATTCTTACGAAGCACAGACAGACCCAGCTATGTCTCCTAAAACATTACTGACCCACTGATAGGCTCTCAACCTGTACGCTC',\n",
       " 'GCGTACCTGGGAATAATATCGCATGCCTCCGGGGCCCTACTATTAATCTTGGCATCCCGGGGGGCGTGAAAAGTGAGAGGGTACGGC|____________|TCGTCTCAGTCCGGTTAGCCGGTGAACACGACAGGGATACTTGCGGCCA',\n",
       " 'CTTCTTTATACTCTTATGCCGTCTACCCGCTATTCCGAACGTCCTGATAGAGATTAAACTGCCAATTTTATAGCGTTCATTGAACACAGC|____________|ACGTAGTTTATGCGAGCCAGCAGAGTCCTCACTGTGCCACTAAGGT')"
      ]
     },
     "execution_count": 145,
     "metadata": {},
     "output_type": "execute_result"
    }
   ],
   "source": [
    "motif = \"|____________|\"\n",
    "idxs, strs = gen_mut_strs(motif, 1, 10, 150, min_offset=30, max_offset=100)\n",
    "# trim(strs, len(motif))\n",
    "strs"
   ]
  },
  {
   "cell_type": "code",
   "execution_count": 3,
   "metadata": {},
   "outputs": [],
   "source": [
    "def get_trim_diffs(res, alignedA, alignedT, labs):\n",
    "    trimStartSites, diffs = [], []\n",
    "    for cl in res:\n",
    "        idxs = alignedT.iloc[cl[0]:cl[1],:][\"index\"]\n",
    "        trimStartSites.append([])\n",
    "        for seq in alignedA:\n",
    "            strt = idxs.iloc[0] if len(idxs) > 0 else 0\n",
    "            trimStartSites[-1].append(strt-str(seq.seq).count('-', 0, strt))\n",
    "    \n",
    "    for tss in trimStartSites:\n",
    "        diffs.append(list(map(lambda a, b: np.sqrt((a[0] - b) ** 2), labs, tss)))\n",
    "    \n",
    "    return [sum(d) / len(d) for d in diffs], diffs\n",
    "\n",
    "def get_coverage(res, alignedA, alignedT, labs, motif_len):\n",
    "    trimStartSites, trimEndSites = [], []\n",
    "    for cl in res:\n",
    "        idxs = alignedT.iloc[cl[0]:cl[1],:][\"index\"]\n",
    "        trimStartSites.append([])\n",
    "        trimEndSites.append([])\n",
    "        for seq in alignedA:\n",
    "            strt = idxs.iloc[0] if len(idxs) > 0 else 0\n",
    "            end = idxs.iloc[-1] if len(idxs) > 0 else len(seq)\n",
    "            trimStartSites[-1].append(strt-str(seq.seq).count('-', 0, strt))\n",
    "            trimEndSites[-1].append(end-str(seq.seq).count('-', 0, end))\n",
    "    \n",
    "    diffs = []\n",
    "    for pss, pes in zip(trimStartSites, trimEndSites): # for each cluster\n",
    "        captured = list(map(lambda ms, ps, pe: (ps < ms[0] < pe or ps < ms[0]+motif_len < pe), labs, pss, pes))\n",
    "        diffs.append(captured)\n",
    "        \n",
    "    capture_ratios = [sum(d) / len(d) for d in diffs]\n",
    "    seq_ratios = [(r[1] - r[0]) / alignedT[0].shape[0] for r in res]\n",
    "    return [cr / lr for cr, lr in zip(capture_ratios, seq_ratios)], capture_ratios"
   ]
  },
  {
   "cell_type": "code",
   "execution_count": 4,
   "metadata": {},
   "outputs": [],
   "source": [
    "def run_trials(ntrials, **kwargs):\n",
    "    errors = []\n",
    "    muscle_exe = r\"./muscle3.8.31_i86linux64\"\n",
    "    in_file = r\"./generated.fasta\"\n",
    "    out_file = r\"./generatedaligned.fasta\"\n",
    "    muscle_cline = Applications.MuscleCommandline(muscle_exe, input=in_file, out=out_file)\n",
    "    for i in range(ntrials):\n",
    "        # gen strs\n",
    "        labs, strings = gen_mut_strs(**kwargs)\n",
    "        seqs = [SeqRecord(Seq(s), id=f\"Seq{i}\", description=\"Generated Sequence\") for i, s in zip(range(len(strings)), strings)]\n",
    "        SeqIO.write(seqs, in_file, 'fasta')\n",
    "\n",
    "        # alignment\n",
    "        muscle_cline()\n",
    "        alignedSeqs = list(SeqIO.parse(out_file, \"fasta\"))\n",
    "\n",
    "        # run UniDip\n",
    "        cts = pd.DataFrame([[let for let in str(s.seq)] for s in alignedSeqs]).apply(pd.value_counts).fillna(0).T.to_dict()\n",
    "        nent = pd.DataFrame(cts).apply(lambda x: 2-shannonEntropy(x), 1) \n",
    "        nent_trimmed = nent[nent > 0.01].reset_index()\n",
    "        res1 = UniDip(np.array(nent_trimmed[0]), alpha=.05, is_hist=True, merge_distance=10, debug=False).run()\n",
    "        if len(res1) == 1:\n",
    "            res1 = [UniDip(np.array(nent_trimmed[0]), alpha=.05, is_hist=True, merge_distance=10, debug=False)._get_full_interval(res1[0])]\n",
    "\n",
    "\n",
    "        # get diffs\n",
    "        p = get_coverage(res1, alignedSeqs, nent_trimmed, labs, len(kwargs.get('motif')) if kwargs.get('motif') else 15)[0]\n",
    "        errors.append(max(p))\n",
    "    return errors\n",
    "\n",
    "\n",
    "def test_parameters(ntrials=100, **kwargs):\n",
    "    \"\"\"\n",
    "        default parameters:\n",
    "            insert_num=1,\n",
    "            Nstrs=50,\n",
    "            str_len=100,\n",
    "            min_offset = ((str_len//insert_num)//2) if min_offset == None else min_offset\n",
    "            max_offset = min_offset if max_offset == None else max_offset\n",
    "            min_gap = str_len//insert_num if min_gap == None else min_gap\n",
    "            max_gap = min_gap if max_gap == None else max_gap \n",
    "            mutate_num = 0 if mutate_num == None else mutate_num\n",
    "    \"\"\"\n",
    "    dat = {'trials': [], \"idx\": []}\n",
    "    \n",
    "    for k, v in kwargs.items():\n",
    "        assert type(v) == list, \"arguments must be lists\"\n",
    "        \n",
    "    vals = list(itertools.product(*kwargs.values()))\n",
    "    keys = list(itertools.repeat(list(kwargs.keys()), len(vals)))\n",
    "    for idx, dct in zip(range(len(vals)), [dict(map(list, zip(x, y))) for x, y in zip(keys, vals)]):   \n",
    "            print(f\"Testing {list(dct.keys())} with perameters {list(dct.values())}\")\n",
    "            dat['trials'].append(run_trials(ntrials, **dct))\n",
    "            dat['idx'].append({f'Trial{idx}': dct})\n",
    "        \n",
    "    print(\"done\")\n",
    "    return dat"
   ]
  },
  {
   "cell_type": "code",
   "execution_count": null,
   "metadata": {},
   "outputs": [],
   "source": [
    "dat = test_parameters(motif=[\"ACTTGCTAGCATCGAT\"], Nstrs=[50], str_len=[500], min_offset=[0], max_offset=[470])"
   ]
  },
  {
   "cell_type": "code",
   "execution_count": null,
   "metadata": {},
   "outputs": [],
   "source": []
  },
  {
   "cell_type": "code",
   "execution_count": 22,
   "metadata": {},
   "outputs": [
    {
     "data": {
      "image/png": "[encoded data removed]",
      "text/plain": [
       "<Figure size 1080x360 with 1 Axes>"
      ]
     },
     "metadata": {},
     "output_type": "display_data"
    }
   ],
   "source": [
    "trials = pd.DataFrame(dat[\"trials\"])\n",
    "\n",
    "plt.figure(figsize=[15, 5])\n",
    "plt.boxplot(trials,  0, 'rs', 0, labels=[f\"Motif Len: {i}\" for i in [4, 8, 16, 24, 32]])\n",
    "plt.title(\"Capture Ratio\")\n",
    "plt.xlabel(\"Capture Ratio (higher is better)\")\n",
    "plt.ylabel(\"\")\n",
    "\n",
    "plt.show()"
   ]
  },
  {
   "cell_type": "code",
   "execution_count": null,
   "metadata": {},
   "outputs": [],
   "source": [
    "trials.T.loc[]"
   ]
  },
  {
   "cell_type": "code",
   "execution_count": 17,
   "metadata": {},
   "outputs": [
    {
     "data": {
      "text/plain": [
       "0.27993395166966817"
      ]
     },
     "execution_count": 17,
     "metadata": {},
     "output_type": "execute_result"
    }
   ],
   "source": [
    "2 - shannonEntropy([10, 1, 5, 7])"
   ]
  }
 ],
 "metadata": {
  "kernelspec": {
   "display_name": "Python 3",
   "language": "python",
   "name": "python3"
  },
  "language_info": {
   "codemirror_mode": {
    "name": "ipython",
    "version": 3
   },
   "file_extension": ".py",
   "mimetype": "text/x-python",
   "name": "python",
   "nbconvert_exporter": "python",
   "pygments_lexer": "ipython3",
   "version": "3.6.4"
  }
 },
 "nbformat": 4,
 "nbformat_minor": 2
}
